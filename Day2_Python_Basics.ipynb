{
  "nbformat": 4,
  "nbformat_minor": 0,
  "metadata": {
    "anaconda-cloud": {},
    "kernelspec": {
      "display_name": "Python 3",
      "language": "python",
      "name": "python3"
    },
    "language_info": {
      "codemirror_mode": {
        "name": "ipython",
        "version": 3
      },
      "file_extension": ".py",
      "mimetype": "text/x-python",
      "name": "python",
      "nbconvert_exporter": "python",
      "pygments_lexer": "ipython3",
      "version": "3.7.3"
    },
    "colab": {
      "name": "Day2-Python-Basics.ipynb",
      "provenance": [],
      "include_colab_link": true
    }
  },
  "cells": [
    {
      "cell_type": "markdown",
      "metadata": {
        "id": "view-in-github",
        "colab_type": "text"
      },
      "source": [
        "<a href=\"https://colab.research.google.com/github/Sebinms45/assignment/blob/main/Day2_Python_Basics.ipynb\" target=\"_parent\"><img src=\"https://colab.research.google.com/assets/colab-badge.svg\" alt=\"Open In Colab\"/></a>"
      ]
    },
    {
      "cell_type": "code",
      "metadata": {
        "id": "y07rxgGkgsUu",
        "colab": {
          "base_uri": "https://localhost:8080/"
        },
        "outputId": "726c7861-30a1-4571-fd48-a387f1d2cf85"
      },
      "source": [
        "print(\"Hello world hi\")"
      ],
      "execution_count": 2,
      "outputs": [
        {
          "output_type": "stream",
          "text": [
            "Hello world hi\n"
          ],
          "name": "stdout"
        }
      ]
    },
    {
      "cell_type": "code",
      "metadata": {
        "colab": {
          "base_uri": "https://localhost:8080/"
        },
        "id": "rkUwb1xj6-tT",
        "outputId": "e057d18f-1476-4fc0-9e12-6295d8ff0657"
      },
      "source": [
        "1 * 4"
      ],
      "execution_count": null,
      "outputs": [
        {
          "output_type": "execute_result",
          "data": {
            "text/plain": [
              "4"
            ]
          },
          "metadata": {
            "tags": []
          },
          "execution_count": 11
        }
      ]
    },
    {
      "cell_type": "markdown",
      "metadata": {
        "id": "zqSM0Bbl8dZL"
      },
      "source": [
        "asdf"
      ]
    },
    {
      "cell_type": "code",
      "metadata": {
        "id": "s7dY_A0n9my4",
        "colab": {
          "base_uri": "https://localhost:8080/"
        },
        "outputId": "a9fba67e-7039-4611-989d-d9cb6b3dea5c"
      },
      "source": [
        "print(int(input(\"Enter a number\")) * 3)\n",
        "\n"
      ],
      "execution_count": null,
      "outputs": [
        {
          "output_type": "stream",
          "text": [
            "Enter a number5\n",
            "15\n"
          ],
          "name": "stdout"
        }
      ]
    },
    {
      "cell_type": "code",
      "metadata": {
        "colab": {
          "base_uri": "https://localhost:8080/"
        },
        "id": "Ojge5ktBC4lM",
        "outputId": "0697791e-e2ea-4d70-f28f-d6aec6f21cab"
      },
      "source": [
        "firstNumber = int(input(\"Enter a number\"))\n",
        "\n",
        "print(firstNumber * 3)\n",
        "print(firstNumber / 3)"
      ],
      "execution_count": null,
      "outputs": [
        {
          "output_type": "stream",
          "text": [
            "Enter a number15\n",
            "45\n",
            "5.0\n"
          ],
          "name": "stdout"
        }
      ]
    },
    {
      "cell_type": "code",
      "metadata": {
        "colab": {
          "base_uri": "https://localhost:8080/",
          "height": 35
        },
        "id": "e6G77FPX6KMS",
        "outputId": "9c08fec3-fcbd-4e55-85f1-c5f8f17687ac"
      },
      "source": [
        "\"Hello\" + \"World\" "
      ],
      "execution_count": null,
      "outputs": [
        {
          "output_type": "execute_result",
          "data": {
            "application/vnd.google.colaboratory.intrinsic+json": {
              "type": "string"
            },
            "text/plain": [
              "'HelloWorld'"
            ]
          },
          "metadata": {
            "tags": []
          },
          "execution_count": 8
        }
      ]
    },
    {
      "cell_type": "code",
      "metadata": {
        "id": "uApql1FZFtau",
        "colab": {
          "base_uri": "https://localhost:8080/"
        },
        "outputId": "ec4fe896-ccd1-4d50-a74d-b938244ea7c8"
      },
      "source": [
        "username = 'mohan'\n",
        "password = '1234'\n",
        "\n",
        "userPassword = input(\"Enter the password\")\n",
        "\n",
        "if userPassword == password :\n",
        "  print(\"Welcome \"+username)\n",
        "  print(\"Hello\")\n",
        "\n",
        "else :\n",
        "  print(\"incorrect password\")\n"
      ],
      "execution_count": null,
      "outputs": [
        {
          "output_type": "stream",
          "text": [
            "Enter the password1234\n",
            "Welcome mohan\n",
            "Hello\n"
          ],
          "name": "stdout"
        }
      ]
    },
    {
      "cell_type": "code",
      "metadata": {
        "colab": {
          "base_uri": "https://localhost:8080/"
        },
        "id": "hKaQItAT8aMv",
        "outputId": "1ecf0ee5-7103-4f34-8994-9ec81c739085"
      },
      "source": [
        "username = 'mohan'\n",
        "password = '1234'\n",
        "\n",
        "name = input(\"Enter the name\")\n",
        "userPassword = input(\"Enter the password\")\n",
        "\n",
        "if name==username :\n",
        "  if userPassword == password :\n",
        "    print(\"Welcome \"+username)\n",
        "  else :\n",
        "    print(\"Incorrect Password\")\n",
        "else :\n",
        "  print(\"This user is not in our database\")"
      ],
      "execution_count": null,
      "outputs": [
        {
          "output_type": "stream",
          "text": [
            "Enter the namemohan\n",
            "Enter the password1234\n",
            "Welcome mohan\n"
          ],
          "name": "stdout"
        }
      ]
    },
    {
      "cell_type": "code",
      "metadata": {
        "colab": {
          "base_uri": "https://localhost:8080/"
        },
        "id": "OEcuILcRBoux",
        "outputId": "3746270a-3bd1-4ba6-a9ad-7380bbef7994"
      },
      "source": [
        "marks = int(input(\"Enter the mark\"))\n",
        "\n",
        "if marks > 90 :\n",
        "  print(\"Grade is A\")\n",
        "\n",
        "elif marks > 80 :\n",
        "  print(\"Grade is B\")\n",
        "\n",
        "else :\n",
        "  print(\"Failed!\")"
      ],
      "execution_count": null,
      "outputs": [
        {
          "output_type": "stream",
          "text": [
            "Enter the mark95\n",
            "Grade is A\n",
            "Grade is B\n"
          ],
          "name": "stdout"
        }
      ]
    },
    {
      "cell_type": "markdown",
      "metadata": {
        "id": "cldejIC8Eua5"
      },
      "source": [
        "Loops\n"
      ]
    },
    {
      "cell_type": "code",
      "metadata": {
        "colab": {
          "base_uri": "https://localhost:8080/"
        },
        "id": "-MZFeadyH-f-",
        "outputId": "52d41fef-938e-404a-a55d-5e685125a577"
      },
      "source": [
        "for anynumber in range(1, 11) :\n",
        "  print(anynumber*2)\n",
        "  "
      ],
      "execution_count": null,
      "outputs": [
        {
          "output_type": "stream",
          "text": [
            "2\n",
            "4\n",
            "6\n",
            "8\n",
            "10\n",
            "12\n",
            "14\n",
            "16\n",
            "18\n",
            "20\n"
          ],
          "name": "stdout"
        }
      ]
    },
    {
      "cell_type": "code",
      "metadata": {
        "colab": {
          "base_uri": "https://localhost:8080/"
        },
        "id": "rpAlnW7TEtpS",
        "outputId": "e7a45069-4c6c-47f8-d63e-8dd66f229db4"
      },
      "source": [
        "for anynumber in range(0, 10, 2) :\n",
        "  print(anynumber)"
      ],
      "execution_count": null,
      "outputs": [
        {
          "output_type": "stream",
          "text": [
            "0\n",
            "2\n",
            "4\n",
            "6\n",
            "8\n"
          ],
          "name": "stdout"
        }
      ]
    },
    {
      "cell_type": "code",
      "metadata": {
        "colab": {
          "base_uri": "https://localhost:8080/"
        },
        "id": "DgEiA1IMKTNj",
        "outputId": "7d40000e-ad9c-4468-98c2-f83fbc561120"
      },
      "source": [
        "students = [\"Ravi\", \"Raja\", \"Naveen\", \"Rose\", \"Jane\"]\n",
        "students[1:4]"
      ],
      "execution_count": null,
      "outputs": [
        {
          "output_type": "execute_result",
          "data": {
            "text/plain": [
              "['Raja', 'Naveen', 'Rose']"
            ]
          },
          "metadata": {
            "tags": []
          },
          "execution_count": 36
        }
      ]
    },
    {
      "cell_type": "code",
      "metadata": {
        "colab": {
          "base_uri": "https://localhost:8080/"
        },
        "id": "tsTLed0fMlGA",
        "outputId": "e4fd5c81-7e6e-44a3-ede6-51fd3dd39c12"
      },
      "source": [
        "for a in students:\n",
        "  print(\"Welcome\" + a)"
      ],
      "execution_count": null,
      "outputs": [
        {
          "output_type": "stream",
          "text": [
            "WelcomeRavi\n",
            "WelcomeRaja\n",
            "WelcomeNaveen\n",
            "WelcomeRose\n",
            "WelcomeJane\n"
          ],
          "name": "stdout"
        }
      ]
    },
    {
      "cell_type": "code",
      "metadata": {
        "colab": {
          "base_uri": "https://localhost:8080/"
        },
        "id": "T_KwUPPSQBCQ",
        "outputId": "96e1ec10-68e4-4365-bbc9-c9beebf3352a"
      },
      "source": [
        "for a in students:\n",
        "  print(\"Welcome\" + a)\n",
        "\n",
        "  if a == \"Naveen\":\n",
        "    break"
      ],
      "execution_count": null,
      "outputs": [
        {
          "output_type": "stream",
          "text": [
            "WelcomeRavi\n",
            "WelcomeRaja\n",
            "WelcomeNaveen\n"
          ],
          "name": "stdout"
        }
      ]
    },
    {
      "cell_type": "markdown",
      "metadata": {
        "id": "Z8FCF6FdQleV"
      },
      "source": [
        "##Dictionary"
      ]
    },
    {
      "cell_type": "code",
      "metadata": {
        "colab": {
          "base_uri": "https://localhost:8080/"
        },
        "id": "hTolaXDHQkoW",
        "outputId": "d4eebfa4-5944-4bd2-fac1-e6b130dcd129"
      },
      "source": [
        "studentMarks = {\n",
        "    \"Ravi\" : 95,\n",
        "    \"Raju\" : 43,\n",
        "    \"Jane\" : 78,\n",
        "    \"Pooja\" :57,\n",
        "    \"Rahu\" :83\n",
        "}\n",
        "\n",
        "studentMarks[\"Ravi\"]"
      ],
      "execution_count": null,
      "outputs": [
        {
          "output_type": "execute_result",
          "data": {
            "text/plain": [
              "95"
            ]
          },
          "metadata": {
            "tags": []
          },
          "execution_count": 2
        }
      ]
    },
    {
      "cell_type": "code",
      "metadata": {
        "id": "eAYidCwzRm03",
        "colab": {
          "base_uri": "https://localhost:8080/"
        },
        "outputId": "746427cd-970e-4a96-be15-7345be27d59a"
      },
      "source": [
        "studentMarks.keys()"
      ],
      "execution_count": null,
      "outputs": [
        {
          "output_type": "execute_result",
          "data": {
            "text/plain": [
              "dict_keys(['Ravi', 'Raju', 'Jane', 'Pooja', 'Rahu'])"
            ]
          },
          "metadata": {
            "tags": []
          },
          "execution_count": 4
        }
      ]
    },
    {
      "cell_type": "code",
      "metadata": {
        "colab": {
          "base_uri": "https://localhost:8080/"
        },
        "id": "SOXY9XPYAItP",
        "outputId": "3e8690fc-3e11-4769-b227-2e999e91b73c"
      },
      "source": [
        "for key in studentMarks.keys():\n",
        "  #print(key)\n",
        "  #print(studentMarks[key])\n",
        "  #Pass criteria is 60\n",
        "  if studentMarks[key] > 60 :\n",
        "    print(key+\" has passed\")"
      ],
      "execution_count": null,
      "outputs": [
        {
          "output_type": "stream",
          "text": [
            "Ravi has passed\n",
            "Jane has passed\n",
            "Rahu has passed\n"
          ],
          "name": "stdout"
        }
      ]
    },
    {
      "cell_type": "code",
      "metadata": {
        "colab": {
          "base_uri": "https://localhost:8080/"
        },
        "id": "ErpqGd2SFO2U",
        "outputId": "b7ac5e88-ae64-41ee-864a-388ac1a26e2d"
      },
      "source": [
        "for (name, marks) in studentMarks.items():\n",
        "\n",
        "  #print(key)\n",
        "  #print(studentMarks[key])\n",
        "  #Pass criteria is 60\n",
        "  if marks < 60 :\n",
        "    print(name+\" has passed\")"
      ],
      "execution_count": null,
      "outputs": [
        {
          "output_type": "stream",
          "text": [
            "Raju has passed\n",
            "Pooja has passed\n"
          ],
          "name": "stdout"
        }
      ]
    },
    {
      "cell_type": "code",
      "metadata": {
        "id": "P0I_-HOiDVyU"
      },
      "source": [
        ""
      ],
      "execution_count": null,
      "outputs": []
    }
  ]
}